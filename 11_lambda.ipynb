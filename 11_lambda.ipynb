{
  "nbformat": 4,
  "nbformat_minor": 0,
  "metadata": {
    "colab": {
      "provenance": [],
      "collapsed_sections": [],
      "include_colab_link": true
    },
    "kernelspec": {
      "name": "python3",
      "display_name": "Python 3"
    },
    "language_info": {
      "name": "python"
    }
  },
  "cells": [
    {
      "cell_type": "markdown",
      "metadata": {
        "id": "view-in-github",
        "colab_type": "text"
      },
      "source": [
        "<a href=\"https://colab.research.google.com/github/Eriand523/Python--Curso-desde-cero/blob/main/11_lambda.ipynb\" target=\"_parent\"><img src=\"https://colab.research.google.com/assets/colab-badge.svg\" alt=\"Open In Colab\"/></a>"
      ]
    },
    {
      "cell_type": "markdown",
      "source": [
        "# Python Desde Cero 🐍\n",
        "\n",
        "# Pyladies Panamá 🌻\n",
        "\n",
        "2022\n",
        "\n",
        "Day 8 - PythonDesdeCero Challenge Sábado 8/Octubre/2022\n",
        "\n",
        "Referencia: \n",
        "https://github.com/Asabeneh/30-Days-Of-Python/blob/master/13_Day_List_comprehension/13_list_comprehension.md\n",
        "\n",
        "https://docs.hektorprofe.net/python/funcionalidades-avanzadas/comprension-de-listas/ "
      ],
      "metadata": {
        "id": "UnqGNrwFjS21"
      }
    },
    {
      "cell_type": "markdown",
      "source": [
        "\n",
        "\n",
        "*   La función Lambda es una pequeña función **anónima sin nombre**.\n",
        "\n",
        "Una función anónima, como su nombre indica es una función sin nombre. ¿Es posible ejecutar una función sin referenciar un nombre? Pues sí, en Python podemos ejecutar una función sin definirla con def. De hecho son similares pero con una diferencia fundamental:\n",
        "\n",
        "`El contenido de una función lambda debe ser una única expresión en lugar de un bloque de acciones.`\n",
        "\n",
        "Por tanto podríamos decir que, mientras las funciones anónimas **lambda** sirven para realizar funciones simples, las funciones definidas con def sirven para manejar tareas más extensas.\n",
        "\n",
        "\n"
      ],
      "metadata": {
        "id": "B6mTGnoskDbg"
      }
    },
    {
      "cell_type": "code",
      "source": [
        "#Syntax\n",
        "#lambda arguments : expression\n",
        "\n",
        "#Sumarle a 10 lo que pase el parámetro A\n",
        "lambda a : a + 10\n",
        "\n",
        "x = lambda a : a + 10\n",
        "\n",
        "print(x(5))\n"
      ],
      "metadata": {
        "id": "CfOOZ2UIpZ13"
      },
      "execution_count": null,
      "outputs": []
    },
    {
      "cell_type": "markdown",
      "source": [
        "# Si deconstruimos una función sencilla, podemos llegar a una función lambda. "
      ],
      "metadata": {
        "id": "pnS-D3vFkoY9"
      }
    },
    {
      "cell_type": "code",
      "source": [
        "#función para doblar un valor:\n",
        "def doblar(num):\n",
        "    resultado = num*2\n",
        "    return resultado\n",
        "\n",
        "#llamado\n",
        "doblar(2)"
      ],
      "metadata": {
        "id": "KWK_gy7HjSmz"
      },
      "execution_count": null,
      "outputs": []
    },
    {
      "cell_type": "code",
      "execution_count": null,
      "metadata": {
        "id": "zEIIcZqRjPc5"
      },
      "outputs": [],
      "source": [
        "#Vamos a simplificar el código un poco\n",
        "def doblar(num):\n",
        "    return num*2\n",
        "\n",
        "#llamado\n",
        "doblar(2)"
      ]
    },
    {
      "cell_type": "code",
      "source": [
        "#Todavía más, podemos escribirlo todo en una sola línea:\n",
        "def doblar(num): return num*2\n",
        "\n",
        "#llamado\n",
        "doblar(2)"
      ],
      "metadata": {
        "id": "UyGXoN1WlInS"
      },
      "execution_count": null,
      "outputs": []
    },
    {
      "cell_type": "code",
      "source": [
        "\"\"\"Esta notación simple es la que una función lambda intenta replicar,\n",
        "vamos a convertir la función en una función anónima\"\"\"\n",
        "\n",
        "lambda num: num*2\n",
        "\n",
        "cos = lambda num: num*2\n",
        "\n",
        "cos(2)"
      ],
      "metadata": {
        "id": "XLut8QOOlXZu"
      },
      "execution_count": null,
      "outputs": []
    },
    {
      "cell_type": "code",
      "source": [
        "#Gracias a la flexibilidad de Python podemos implementar infinitas funciones simples.\n",
        "impar = lambda num: num%2 != 0\n",
        "\n",
        "impar(5)"
      ],
      "metadata": {
        "id": "WR-SrrJ9lczV"
      },
      "execution_count": null,
      "outputs": []
    },
    {
      "cell_type": "code",
      "source": [
        "#Darle la vuelta a una cadena utilizando slicing:\n",
        "\n",
        "revertir = lambda cadena: cadena[::-1]\n",
        "\n",
        "revertir(\"Hola\")"
      ],
      "metadata": {
        "id": "YU8RObVll6ZY"
      },
      "execution_count": null,
      "outputs": []
    },
    {
      "cell_type": "markdown",
      "source": [
        "# Múltiples variables"
      ],
      "metadata": {
        "id": "6hA7kVWvmL5N"
      }
    },
    {
      "cell_type": "code",
      "source": [
        "# Multiples variables\n",
        "multiple_variable = lambda a, b, c: a ** 2 - 3 * b + 4 * c\n",
        "\n",
        "print(multiple_variable(5, 5, 3)) # 22"
      ],
      "metadata": {
        "id": "DuZ8BD-umR06"
      },
      "execution_count": null,
      "outputs": []
    },
    {
      "cell_type": "code",
      "source": [
        "#Por ejemplo para sumar dos números:\n",
        "sumar = lambda x,y: x+y\n",
        "\n",
        "sumar(5,2)"
      ],
      "metadata": {
        "id": "IMXX0_inl_4A"
      },
      "execution_count": null,
      "outputs": []
    },
    {
      "cell_type": "code",
      "source": [
        "#Intermedio\n",
        "lambda_func = lambda x: True if x**2 >= 10 else False\n",
        "lambda_func(3) # Retorna False\n",
        "lambda_func(4) # Retorna True"
      ],
      "metadata": {
        "id": "dT86PoWWqDAa"
      },
      "execution_count": null,
      "outputs": []
    },
    {
      "cell_type": "code",
      "source": [
        "\n",
        "format_numeric = lambda num: f\"{num:e}\" if isinstance(num, int) else f\"{num:,.2f}\"\n",
        " \n",
        "print(\"Int formatting:\", format_numeric(1000000))\n",
        "print(\"float formatting:\", format_numeric(999999.789541235))"
      ],
      "metadata": {
        "colab": {
          "base_uri": "https://localhost:8080/"
        },
        "id": "U6HPEiU6q6cc",
        "outputId": "4bfdaec3-4336-4c5b-c2bc-7cf73f6a81ff"
      },
      "execution_count": null,
      "outputs": [
        {
          "output_type": "stream",
          "name": "stdout",
          "text": [
            "Int formatting: 1.000000e+06\n",
            "float formatting: 999,999.79\n"
          ]
        }
      ]
    },
    {
      "cell_type": "markdown",
      "source": [
        "# Problema 1"
      ],
      "metadata": {
        "id": "aZojgB_DradN"
      }
    },
    {
      "cell_type": "code",
      "source": [
        "is_even_list = [lambda arg = x: arg * 10 for x in range(1, 5)]\n",
        " \n",
        "# iterate on each lambda function\n",
        "# and invoke the function to get the calculated value\n",
        "for item in is_even_list:\n",
        "    print(item())"
      ],
      "metadata": {
        "id": "6frgEa5UrZw8"
      },
      "execution_count": null,
      "outputs": []
    },
    {
      "cell_type": "markdown",
      "source": [
        "# Problema 2"
      ],
      "metadata": {
        "id": "fgyDNvhDrgJq"
      }
    },
    {
      "cell_type": "code",
      "source": [
        "# Example of lambda function using if-else\n",
        "Max = lambda a, b : a if(a > b) else b\n",
        " \n",
        "print(Max(5, 2))"
      ],
      "metadata": {
        "id": "pgUUKVw6riei"
      },
      "execution_count": null,
      "outputs": []
    },
    {
      "cell_type": "markdown",
      "source": [
        "# Problema 3\n",
        "\n",
        "Crea un script en Python que use lambda para hacer la siguiente \n",
        "\n",
        "**Fórmula** = (x+y) * z\n",
        "\n",
        "Que los 3 valores sean pasados por argumentos"
      ],
      "metadata": {
        "id": "_eFivSzmvAb3"
      }
    },
    {
      "cell_type": "code",
      "source": [],
      "metadata": {
        "id": "LpvHvd78u_1s"
      },
      "execution_count": null,
      "outputs": []
    },
    {
      "cell_type": "markdown",
      "source": [
        "# Función Filter\n",
        "Es una biblioteca incorporada de Python que devuelve solo aquellos valores que se ajustan a ciertos criterios. \n",
        "\n",
        "La sintaxis es **filter**(**`function`**, ***`iterable`***). \n",
        "\n",
        "El iterable puede ser cualquier secuencia, como una lista, un conjunto o un objeto de serie (más abajo).\n"
      ],
      "metadata": {
        "id": "zr4M8x1apKgk"
      }
    },
    {
      "cell_type": "code",
      "source": [
        "#Desarrollo tradicional\n",
        "valores = [1, 2, 3, 4, 5, 6, 7, 8, 9]\n",
        "pares = []\n",
        "for valor in valores:\n",
        "    if valor % 2 == 0:\n",
        "        pares.append(valor)\n",
        "\n",
        "print(pares)"
      ],
      "metadata": {
        "id": "F-JLSAAIsWNB"
      },
      "execution_count": null,
      "outputs": []
    },
    {
      "cell_type": "code",
      "source": [
        "#Usando Lambda\n",
        "valores = [1,2,3,4,5,6,7,8,9]\n",
        "pares= list(filter(lambda x: x%2==0, valores))\n",
        "\n",
        "print(pares)"
      ],
      "metadata": {
        "id": "-dyu4Qj2pcoz"
      },
      "execution_count": null,
      "outputs": []
    },
    {
      "cell_type": "markdown",
      "source": [
        "# Problema 4\n",
        "\n",
        "Crea un programa en Pyhon que a partir de nombre dados, que filtre solo los nombres que empiecen con A.\n",
        "\n",
        "lista = [\"Alejandra\",\"Juan\",\"Maria\",\"Alfonso\"]"
      ],
      "metadata": {
        "id": "4eakQVUArrMl"
      }
    },
    {
      "cell_type": "code",
      "source": [],
      "metadata": {
        "id": "ONEZR7o_swZr"
      },
      "execution_count": null,
      "outputs": []
    },
    {
      "cell_type": "markdown",
      "source": [
        "# Función Map()\n",
        "\n",
        "La función map() en Python aplica una función a cada uno de los elementos de una lista.\n",
        "\n",
        "> **map**(**`una_funcion`**, **`una_lista`**)\n",
        "\n"
      ],
      "metadata": {
        "id": "XND878BsqRC7"
      }
    },
    {
      "cell_type": "code",
      "source": [
        "'''Imagina que tienes una lista de enteros y quieres obtener una nueva lista con el cuadrado de cada uno de ellos.\n",
        "Seguramente, lo primero que se te ha ocurrido es algo similar a lo siguiente:'''\n",
        "\n",
        "enteros = [1, 2, 4, 7]\n",
        "cuadrados = []\n",
        "for e in enteros:\n",
        "    cuadrados.append(e ** 2)\n",
        "     \n",
        "print(cuadrados)"
      ],
      "metadata": {
        "id": "mbTWglquqxll"
      },
      "execution_count": null,
      "outputs": []
    },
    {
      "cell_type": "code",
      "source": [
        "'''Sin embargo, podemos usar una función anónima en combinación con map() \n",
        "para obtener el mismo resultado de una manera mucho más simple:'''\n",
        "\n",
        "enteros = [1, 2, 4, 7]\n",
        "cuadrados = list(map(lambda x : x ** 2, enteros))\n",
        "\n",
        "print(cuadrados)"
      ],
      "metadata": {
        "id": "oz815e3SrLGS"
      },
      "execution_count": null,
      "outputs": []
    },
    {
      "cell_type": "code",
      "source": [
        "# El siguiente ejemplo reduce al cubo todos los números de la lista.\n",
        "\n",
        "list_1 = [1,2,3,4,5,6,7,8,9]\n",
        "cubed = list(map(lambda x: pow(x,3), list_1))\n",
        "\n",
        "print(cubed)"
      ],
      "metadata": {
        "id": "5MycdbTxrtMB"
      },
      "execution_count": null,
      "outputs": []
    },
    {
      "cell_type": "code",
      "source": [
        "\"\"\"La cosa se vuelve todavía más interesante cuando, en lugar de una lista de valores, \n",
        "pasamos como segundo parámetro una lista de funciones: \"\"\"\n",
        "\n",
        "enteros = [1, 2, 4, 7]\n",
        "\n",
        "def cuadrado(x):\n",
        "    return x ** 2\n",
        "\n",
        "def cubo(x):\n",
        "    return x ** 3\n",
        "\n",
        "funciones = [cuadrado, cubo]\n",
        "for e in enteros:\n",
        "    valores = list(map(lambda x : x(e), funciones))\n",
        "    print(valores)\n"
      ],
      "metadata": {
        "id": "cU1Wf3HLsH1z"
      },
      "execution_count": null,
      "outputs": []
    },
    {
      "cell_type": "markdown",
      "source": [
        "#Problema 5\n",
        "Para la clase dada abajo, cree un programa que le permita imprimir en una función lambda, solo los nombres de la personas mayores de edad\n"
      ],
      "metadata": {
        "id": "rxUcRdieyjkk"
      }
    },
    {
      "cell_type": "code",
      "source": [
        "class Persona:\n",
        "\n",
        "    def __init__(self, nombre, edad):\n",
        "        self.nombre = nombre\n",
        "        self.edad = edad\n",
        "\n",
        "    def __str__(self):\n",
        "        return \"{} de {} años\".format(self.nombre, self.edad)\n",
        "\n",
        "\n",
        "personas = [\n",
        "    Persona(\"Juan\", 35),\n",
        "    Persona(\"Marta\", 16),\n",
        "    Persona(\"Manuel\", 78),\n",
        "    Persona(\"Eduardo\", 12)\n",
        "]"
      ],
      "metadata": {
        "id": "kgkaE7uGwfL6"
      },
      "execution_count": null,
      "outputs": []
    },
    {
      "cell_type": "code",
      "source": [],
      "metadata": {
        "id": "o8vh5qbQ0yO7"
      },
      "execution_count": null,
      "outputs": []
    },
    {
      "cell_type": "markdown",
      "source": [
        "# Función **reduce()**\n",
        "La última función de esta serie que vamos a ver es la función reduce(). \n",
        "\n",
        "Esta función se utiliza principalmente para llevar a cabo un cálculo acumulativo sobre una lista de valores y devolver el resultado.\n",
        "\n",
        "La función reduce() está incluida en el módulo **functools**.\n",
        "\n",
        "**reduce**(**`función`**, **`iterable`**)"
      ],
      "metadata": {
        "id": "2ovDqNMwtUCV"
      }
    },
    {
      "cell_type": "code",
      "source": [
        "'''Imagina que quieres obtener el resultado de sumar todos los elementos de una lista.\n",
        "Como en las veces anteriores, la suma la puedes calcular de la siguiente manera:'''\n",
        "\n",
        "valores = [2, 4, 6, 5, 4]\n",
        "suma = 0\n",
        "for el in valores:\n",
        "    suma += el\n",
        "print(suma)"
      ],
      "metadata": {
        "id": "05x1rwMfth7s"
      },
      "execution_count": null,
      "outputs": []
    },
    {
      "cell_type": "code",
      "source": [
        "#Pero también usando la función reduce() en combinación con una función lambda:\n",
        "\n",
        "#importamos la función\n",
        "from functools import reduce # Esto es necesario si se está usando Python 3\n",
        "\n",
        "suma = reduce(lambda x, y: x + y, valores)\n",
        "print(suma)"
      ],
      "metadata": {
        "id": "SCb0uzQFtmX-"
      },
      "execution_count": null,
      "outputs": []
    },
    {
      "cell_type": "code",
      "source": [
        "from functools import reduce  # Esto es necesario si se está usando Python 3\n",
        "\n",
        "lista = [2,4,6,8]\n",
        "a = reduce(lambda x,y: x-y, lista)\n",
        "print(a)"
      ],
      "metadata": {
        "id": "6VqtM1BTuL-S"
      },
      "execution_count": null,
      "outputs": []
    },
    {
      "cell_type": "markdown",
      "source": [
        "#Problema 6\n",
        "\n",
        "Cree un script en python que le permita la multimplicación dos listas\n",
        "\n",
        "a = [1, 2, 3, 4, 5]\n",
        "\n",
        "b = [6, 7, 8, 9, 10]"
      ],
      "metadata": {
        "id": "-gj07ibL1Gfv"
      }
    },
    {
      "cell_type": "code",
      "source": [],
      "metadata": {
        "id": "Ve-j13M71lxs"
      },
      "execution_count": null,
      "outputs": []
    },
    {
      "cell_type": "markdown",
      "source": [
        "Agregue la multiplicación por una tercera lista.\n",
        "\n",
        "c = [11, 12, 13, 14, 15]"
      ],
      "metadata": {
        "id": "qNwHr_Gs1t-W"
      }
    },
    {
      "cell_type": "code",
      "source": [],
      "metadata": {
        "id": "Qc_3JsDD1tKK"
      },
      "execution_count": null,
      "outputs": []
    }
  ]
}