{
  "nbformat": 4,
  "nbformat_minor": 0,
  "metadata": {
    "colab": {
      "name": "1_Mi primer programa.ipynb",
      "provenance": [],
      "include_colab_link": true
    },
    "kernelspec": {
      "name": "python3",
      "display_name": "Python 3"
    },
    "language_info": {
      "name": "python"
    }
  },
  "cells": [
    {
      "cell_type": "markdown",
      "metadata": {
        "id": "view-in-github",
        "colab_type": "text"
      },
      "source": [
        "<a href=\"https://colab.research.google.com/github/Eriand523/Phyton--Curso-desde-cero/blob/main/1_Mi_primer_programa.ipynb\" target=\"_parent\"><img src=\"https://colab.research.google.com/assets/colab-badge.svg\" alt=\"Open In Colab\"/></a>"
      ]
    },
    {
      "cell_type": "markdown",
      "source": [
        "# Python Desde Cero 🐍\n",
        "\n",
        "Pyladies Panamá 🌻\n",
        "\n",
        "2022\n",
        "\n",
        "\n",
        "---\n",
        "\n",
        "Day 1 - PythonDesdeCero Challenge\n",
        "\n",
        "---"
      ],
      "metadata": {
        "id": "kgVyVRNADXrB"
      }
    },
    {
      "cell_type": "markdown",
      "source": [
        "# Nuestros primeros pasos"
      ],
      "metadata": {
        "id": "TzU1CXvgDbpV"
      }
    },
    {
      "cell_type": "code",
      "source": [
        "!python --version"
      ],
      "metadata": {
        "id": "9_DsOSBCEMjJ",
        "colab": {
          "base_uri": "https://localhost:8080/"
        },
        "outputId": "dba0e3bf-bea4-40b3-94d5-53671d7e6aee"
      },
      "execution_count": null,
      "outputs": [
        {
          "output_type": "stream",
          "name": "stdout",
          "text": [
            "Python 3.7.13\n"
          ]
        }
      ]
    },
    {
      "cell_type": "code",
      "source": [
        "print ('Hello World')"
      ],
      "metadata": {
        "id": "q9KqoOxpDisb",
        "colab": {
          "base_uri": "https://localhost:8080/"
        },
        "outputId": "372fd2c4-ffdd-4d1f-f8d8-b3c1bec1d896"
      },
      "execution_count": null,
      "outputs": [
        {
          "output_type": "stream",
          "name": "stdout",
          "text": [
            "Hello World\n"
          ]
        }
      ]
    },
    {
      "cell_type": "code",
      "execution_count": null,
      "metadata": {
        "id": "AKu4baTlDVwA"
      },
      "outputs": [],
      "source": [
        "#Example: Single Line Comment\n",
        "\n",
        "    # This is the first comment\n",
        "    # This is the second comment\n",
        "    # Python is eating the world"
      ]
    },
    {
      "cell_type": "code",
      "source": [
        "#Mi primer programa\n",
        "print ('Hello World')"
      ],
      "metadata": {
        "id": "E5AQiQBs6gZI",
        "colab": {
          "base_uri": "https://localhost:8080/"
        },
        "outputId": "4e204b97-7cfc-43dd-f51e-1c1d6d1f9ff8"
      },
      "execution_count": null,
      "outputs": [
        {
          "output_type": "stream",
          "name": "stdout",
          "text": [
            "Hello World\n"
          ]
        }
      ]
    },
    {
      "cell_type": "code",
      "source": [
        "'''\n",
        "Comment en varías líneas \n",
        "\n",
        "'''\n",
        "\n",
        "print ('Hello World')"
      ],
      "metadata": {
        "id": "Z8kaG6ESEKJe",
        "colab": {
          "base_uri": "https://localhost:8080/"
        },
        "outputId": "09ef8409-f3d4-4fee-e37c-784c581dc04a"
      },
      "execution_count": null,
      "outputs": [
        {
          "output_type": "stream",
          "name": "stdout",
          "text": [
            "Hello World\n"
          ]
        }
      ]
    }
  ]
}