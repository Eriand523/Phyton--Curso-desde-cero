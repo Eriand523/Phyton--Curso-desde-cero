{
  "nbformat": 4,
  "nbformat_minor": 0,
  "metadata": {
    "colab": {
      "name": "1. Mi primer programa.ipynb",
      "provenance": [],
      "include_colab_link": true
    },
    "kernelspec": {
      "name": "python3",
      "display_name": "Python 3"
    },
    "language_info": {
      "name": "python"
    }
  },
  "cells": [
    {
      "cell_type": "markdown",
      "metadata": {
        "id": "view-in-github",
        "colab_type": "text"
      },
      "source": [
        "<a href=\"https://colab.research.google.com/github/Eriand523/Phyton--Curso-desde-cero/blob/main/1_Mi_primer_programa.ipynb\" target=\"_parent\"><img src=\"https://colab.research.google.com/assets/colab-badge.svg\" alt=\"Open In Colab\"/></a>"
      ]
    },
    {
      "cell_type": "markdown",
      "source": [
        "# Python Desde Cero 🐍\n",
        "\n",
        "Pyladies Panamá 🌻\n",
        "\n",
        "2022\n",
        "\n",
        "\n",
        "---\n",
        "\n",
        "Day 1 - PythonDesdeCero Challenge\n",
        "\n",
        "---"
      ],
      "metadata": {
        "id": "kgVyVRNADXrB"
      }
    },
    {
      "cell_type": "markdown",
      "source": [
        "# Nuestros primeros pasos"
      ],
      "metadata": {
        "id": "TzU1CXvgDbpV"
      }
    },
    {
      "cell_type": "code",
      "source": [
        "!python --version"
      ],
      "metadata": {
        "id": "9_DsOSBCEMjJ",
        "colab": {
          "base_uri": "https://localhost:8080/"
        },
        "outputId": "ba3127ca-f437-4467-ba47-f10484e2b8ce"
      },
      "execution_count": null,
      "outputs": [
        {
          "output_type": "stream",
          "name": "stdout",
          "text": [
            "Python 3.7.13\n"
          ]
        }
      ]
    },
    {
      "cell_type": "code",
      "source": [
        "print ('Hello World')"
      ],
      "metadata": {
        "id": "q9KqoOxpDisb",
        "colab": {
          "base_uri": "https://localhost:8080/"
        },
        "outputId": "48a40049-43dd-4fc5-c940-07882fd562ab"
      },
      "execution_count": null,
      "outputs": [
        {
          "output_type": "stream",
          "name": "stdout",
          "text": [
            "Hello World\n"
          ]
        }
      ]
    },
    {
      "cell_type": "code",
      "execution_count": null,
      "metadata": {
        "id": "AKu4baTlDVwA"
      },
      "outputs": [],
      "source": [
        "#Example: Single Line Comment\n",
        "\n",
        "    # This is the first comment\n",
        "    # This is the second comment\n",
        "    # Python is eating the world"
      ]
    },
    {
      "cell_type": "code",
      "source": [
        "#Mi primer programa\n",
        "print ('Hello World')"
      ],
      "metadata": {
        "id": "E5AQiQBs6gZI",
        "colab": {
          "base_uri": "https://localhost:8080/"
        },
        "outputId": "7992e34e-3173-400e-f4aa-5b20eac40a62"
      },
      "execution_count": null,
      "outputs": [
        {
          "output_type": "stream",
          "name": "stdout",
          "text": [
            "Hello World\n"
          ]
        }
      ]
    },
    {
      "cell_type": "code",
      "source": [
        "'''\n",
        "Comment en varías líneas \n",
        "aaaa\n",
        "bbbb\n",
        "cccc\n",
        "ddd\n",
        "\n",
        "'''\n",
        "\n",
        "print ('Hello World')"
      ],
      "metadata": {
        "id": "Z8kaG6ESEKJe",
        "colab": {
          "base_uri": "https://localhost:8080/"
        },
        "outputId": "b47cbf4b-5c3b-4e91-d697-0218d1f28eb4"
      },
      "execution_count": null,
      "outputs": [
        {
          "output_type": "stream",
          "name": "stdout",
          "text": [
            "Hello World\n"
          ]
        }
      ]
    }
  ]
}