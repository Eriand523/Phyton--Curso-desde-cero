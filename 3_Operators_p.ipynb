{
  "cells": [
    {
      "cell_type": "markdown",
      "metadata": {
        "id": "view-in-github",
        "colab_type": "text"
      },
      "source": [
        "<a href=\"https://colab.research.google.com/github/Eriand523/Phyton--Curso-desde-cero/blob/main/3_Operators_p.ipynb\" target=\"_parent\"><img src=\"https://colab.research.google.com/assets/colab-badge.svg\" alt=\"Open In Colab\"/></a>"
      ]
    },
    {
      "cell_type": "markdown",
      "source": [
        "# Python Desde Cero 🐍\n",
        "\n",
        "Pyladies Panamá 🌻\n",
        "\n",
        "2022\n",
        "\n",
        "---\n",
        "\n",
        "Day 1 - PythonDesdeCero Challenge\n",
        "\n",
        "---\n"
      ],
      "metadata": {
        "id": "k9MUkHTOdXLD"
      }
    },
    {
      "cell_type": "markdown",
      "metadata": {
        "id": "ETCnWOO7qyo-"
      },
      "source": [
        "# Operadores Aritméticos\n",
        "| Símbolo | Descripción | \n",
        "| --- | --- |\n",
        "| + | Suma |\n",
        "| – | Resta |\n",
        "| * | Multiplicación |\n",
        "| / | División |\n",
        "| //| Cociente (Retorna el entero: 5/2 = 2) |\n",
        "| % | Módulo (Retorna el resudio del problema: 5%2=1) |\n",
        "|** | Exponente (4**2 = 16) |\n",
        "\n"
      ]
    },
    {
      "cell_type": "code",
      "execution_count": null,
      "metadata": {
        "id": "Rjkkn0dgqypC",
        "colab": {
          "base_uri": "https://localhost:8080/"
        },
        "outputId": "3c2c55b4-8c8d-49d1-8106-414d830a3844"
      },
      "outputs": [
        {
          "output_type": "stream",
          "name": "stdout",
          "text": [
            "8\n",
            "<class 'int'>\n"
          ]
        }
      ],
      "source": [
        "#Addition\n",
        "\n",
        "suma_simple= 3 + 5\n",
        "print(suma_simple)\n",
        "print(type(suma_simple))"
      ]
    },
    {
      "cell_type": "code",
      "execution_count": null,
      "metadata": {
        "id": "p3Xlf2e0qypD",
        "colab": {
          "base_uri": "https://localhost:8080/"
        },
        "outputId": "9421e386-dc66-4253-c70b-8bdaec9ffbbc"
      },
      "outputs": [
        {
          "output_type": "stream",
          "name": "stdout",
          "text": [
            "54\n",
            "<class 'int'>\n"
          ]
        }
      ],
      "source": [
        "# Subtraction\n",
        "\n",
        "resta_simple= 100 - 46\n",
        "print(resta_simple)\n",
        "print(type(resta_simple))\n"
      ]
    },
    {
      "cell_type": "code",
      "execution_count": null,
      "metadata": {
        "id": "YsRGBtwzqypE",
        "colab": {
          "base_uri": "https://localhost:8080/"
        },
        "outputId": "d08990ff-f121-4814-d052-1228fc07bc68"
      },
      "outputs": [
        {
          "output_type": "stream",
          "name": "stdout",
          "text": [
            "300\n",
            "<class 'int'>\n"
          ]
        }
      ],
      "source": [
        "# Multiplication\n",
        "\n",
        "multi= 20 * 15\n",
        "print(multi)\n",
        "print(type(multi))"
      ]
    },
    {
      "cell_type": "code",
      "execution_count": null,
      "metadata": {
        "id": "OgLQ3cn7qypF",
        "colab": {
          "base_uri": "https://localhost:8080/"
        },
        "outputId": "79b2738a-d2eb-4e12-edb0-a1219da3e4df"
      },
      "outputs": [
        {
          "output_type": "stream",
          "name": "stdout",
          "text": [
            "5.571428571428571\n",
            "<class 'float'>\n"
          ]
        }
      ],
      "source": [
        "# Division\n",
        "\n",
        "Div= 39 / 7\n",
        "print(Div)\n",
        "print(type(Div))\n"
      ]
    },
    {
      "cell_type": "code",
      "source": [
        "Div= 35 // 7 \n",
        "print(Div)\n",
        "print(type(Div))"
      ],
      "metadata": {
        "id": "SiHTpDZ8V0DI",
        "colab": {
          "base_uri": "https://localhost:8080/"
        },
        "outputId": "4c91474d-c172-4517-95ef-11017c427071"
      },
      "execution_count": null,
      "outputs": [
        {
          "output_type": "stream",
          "name": "stdout",
          "text": [
            "5\n",
            "<class 'int'>\n"
          ]
        }
      ]
    },
    {
      "cell_type": "code",
      "source": [
        "Div = 39 % 7 \n",
        "print(Div)\n",
        "print(type(Div))"
      ],
      "metadata": {
        "id": "JVYS6Nx2V-3j",
        "colab": {
          "base_uri": "https://localhost:8080/"
        },
        "outputId": "66a37378-e5b6-4a41-846b-bfc49981a2b8"
      },
      "execution_count": null,
      "outputs": [
        {
          "output_type": "stream",
          "name": "stdout",
          "text": [
            "4\n",
            "<class 'int'>\n"
          ]
        }
      ]
    },
    {
      "cell_type": "code",
      "execution_count": null,
      "metadata": {
        "id": "v_5MNQfrqypF",
        "colab": {
          "base_uri": "https://localhost:8080/",
          "height": 166
        },
        "outputId": "a76c6ed7-4fa7-4c3d-d1f0-1a458e5ffd5d"
      },
      "outputs": [
        {
          "output_type": "error",
          "ename": "TypeError",
          "evalue": "ignored",
          "traceback": [
            "\u001b[0;31m---------------------------------------------------------------------------\u001b[0m",
            "\u001b[0;31mTypeError\u001b[0m                                 Traceback (most recent call last)",
            "\u001b[0;32m<ipython-input-13-71b4a242f358>\u001b[0m in \u001b[0;36m<module>\u001b[0;34m\u001b[0m\n\u001b[0;32m----> 1\u001b[0;31m \u001b[0;34m\"Hola\"\u001b[0m\u001b[0;34m+\u001b[0m\u001b[0;36m20\u001b[0m\u001b[0;34m\u001b[0m\u001b[0;34m\u001b[0m\u001b[0m\n\u001b[0m",
            "\u001b[0;31mTypeError\u001b[0m: can only concatenate str (not \"int\") to str"
          ]
        }
      ],
      "source": [
        "\"Hola\"+20"
      ]
    },
    {
      "cell_type": "code",
      "execution_count": null,
      "metadata": {
        "id": "ZwOCBjfDqypF",
        "colab": {
          "base_uri": "https://localhost:8080/",
          "height": 35
        },
        "outputId": "70f5cdc8-2694-42ca-e6e9-afcd4900701d"
      },
      "outputs": [
        {
          "output_type": "execute_result",
          "data": {
            "text/plain": [
              "'Hola 20'"
            ],
            "application/vnd.google.colaboratory.intrinsic+json": {
              "type": "string"
            }
          },
          "metadata": {},
          "execution_count": 15
        }
      ],
      "source": [
        "#Concatena\n",
        "\"Hola \"+\"20\""
      ]
    },
    {
      "cell_type": "code",
      "execution_count": null,
      "metadata": {
        "id": "1Z1VqfMeqypG",
        "colab": {
          "base_uri": "https://localhost:8080/",
          "height": 35
        },
        "outputId": "5813276c-ea7e-4938-bdeb-bdf8ea17823d"
      },
      "outputs": [
        {
          "output_type": "execute_result",
          "data": {
            "text/plain": [
              "'HolaHolaHolaHolaHola'"
            ],
            "application/vnd.google.colaboratory.intrinsic+json": {
              "type": "string"
            }
          },
          "metadata": {},
          "execution_count": 16
        }
      ],
      "source": [
        "\"Hola\" * 5"
      ]
    },
    {
      "cell_type": "markdown",
      "metadata": {
        "id": "kzRTTMAqqypG"
      },
      "source": [
        "# Comparison Operators\n",
        "\n",
        "\n",
        "---\n",
        "| Operador | Nombre | Ejemplo |\n",
        "| --- | --- | --- |\t\n",
        "| == |\tIgual\t| x == y = False\n",
        "| != |\tDistinto |\tx != y = True\n",
        "| >\t | Mayor |\tx > y = False\n",
        "| < |\tMenor\t| x < y = True\n",
        "| >=\t| Mayor o igual |\tx >= y = False\n",
        "|<=\t|Menor o igual |\tx <= y = True"
      ]
    },
    {
      "cell_type": "code",
      "execution_count": null,
      "metadata": {
        "id": "uJnogITaqypH",
        "colab": {
          "base_uri": "https://localhost:8080/"
        },
        "outputId": "8b3c3def-f8b4-46af-a4e5-8944642c46d6"
      },
      "outputs": [
        {
          "output_type": "execute_result",
          "data": {
            "text/plain": [
              "True"
            ]
          },
          "metadata": {},
          "execution_count": 17
        }
      ],
      "source": [
        "# Mayor que\n",
        "\n",
        "45 > 34"
      ]
    },
    {
      "cell_type": "code",
      "execution_count": null,
      "metadata": {
        "id": "95xbE72sqypH",
        "colab": {
          "base_uri": "https://localhost:8080/"
        },
        "outputId": "8003e3c3-9edc-4b48-931a-d5df51651915"
      },
      "outputs": [
        {
          "output_type": "execute_result",
          "data": {
            "text/plain": [
              "False"
            ]
          },
          "metadata": {},
          "execution_count": 18
        }
      ],
      "source": [
        "# Menor que\n",
        "\n",
        "56 < 23"
      ]
    },
    {
      "cell_type": "code",
      "execution_count": null,
      "metadata": {
        "id": "7XFEvRygqypI",
        "colab": {
          "base_uri": "https://localhost:8080/"
        },
        "outputId": "1f181721-2463-427a-e2b9-61351acad2ac"
      },
      "outputs": [
        {
          "output_type": "execute_result",
          "data": {
            "text/plain": [
              "False"
            ]
          },
          "metadata": {},
          "execution_count": 19
        }
      ],
      "source": [
        "34 * 34 < 45*23"
      ]
    },
    {
      "cell_type": "code",
      "execution_count": null,
      "metadata": {
        "id": "yP6c9doXqypI",
        "colab": {
          "base_uri": "https://localhost:8080/"
        },
        "outputId": "f7627aca-476d-4c57-c5a1-041b53ba95a7"
      },
      "outputs": [
        {
          "output_type": "execute_result",
          "data": {
            "text/plain": [
              "True"
            ]
          },
          "metadata": {},
          "execution_count": 20
        }
      ],
      "source": [
        "45 == 45"
      ]
    },
    {
      "cell_type": "markdown",
      "metadata": {
        "id": "qUaI4jCsqypI"
      },
      "source": [
        "# Logical Operators\n",
        "\n",
        "\n",
        "---\n",
        "\n",
        "|Operador | \tNombre| \tEjemplo |\n",
        "| --- | --- | --- |\n",
        "|and\t| Devuelve True si ambos elementos son True\t| True and True = True|\n",
        "|or\t| Devuelve True si al menos un elemento es True | \tTrue or False = True|\n",
        "|not |\tDevuelve el contrario, True si es Falso y viceversa\t| not True = False|"
      ]
    },
    {
      "cell_type": "code",
      "execution_count": null,
      "metadata": {
        "id": "tOzWwa_DqypJ",
        "colab": {
          "base_uri": "https://localhost:8080/"
        },
        "outputId": "115e0977-ad21-42f1-c517-ef57e3ba7e2d"
      },
      "outputs": [
        {
          "output_type": "stream",
          "name": "stdout",
          "text": [
            "True\n",
            "False\n",
            "False\n",
            "False\n"
          ]
        }
      ],
      "source": [
        "# and operator\n",
        "\n",
        "print(True and True)   # True\n",
        "print(True and False)  # False\n",
        "print(False and True)  # False\n",
        "print(False and False) # False"
      ]
    },
    {
      "cell_type": "code",
      "execution_count": null,
      "metadata": {
        "id": "a7LAZBzSqypJ",
        "colab": {
          "base_uri": "https://localhost:8080/"
        },
        "outputId": "7f5a08b8-979f-4e02-fa40-4821e5aecf2a"
      },
      "outputs": [
        {
          "output_type": "stream",
          "name": "stdout",
          "text": [
            "True\n",
            "True\n",
            "True\n",
            "False\n"
          ]
        }
      ],
      "source": [
        "# or operator\n",
        "\n",
        "print(True or True)   # True\n",
        "print(True or False)  # True\n",
        "print(False or True)  # True\n",
        "print(False or False) # False"
      ]
    },
    {
      "cell_type": "code",
      "execution_count": null,
      "metadata": {
        "id": "1BQP5hVNqypK",
        "colab": {
          "base_uri": "https://localhost:8080/"
        },
        "outputId": "53163f31-c94e-4170-ff6e-41abb553286e"
      },
      "outputs": [
        {
          "output_type": "stream",
          "name": "stdout",
          "text": [
            "False\n",
            "True\n",
            "True\n"
          ]
        }
      ],
      "source": [
        "# not operator\n",
        "print(not True)  # False\n",
        "print(not False) # True\n",
        "print(not not not not True) # True"
      ]
    },
    {
      "cell_type": "code",
      "execution_count": null,
      "metadata": {
        "collapsed": true,
        "id": "yXkXENr6qypK"
      },
      "outputs": [],
      "source": []
    }
  ],
  "metadata": {
    "kernelspec": {
      "display_name": "Python 3",
      "language": "python",
      "name": "python3"
    },
    "language_info": {
      "codemirror_mode": {
        "name": "ipython",
        "version": 3
      },
      "file_extension": ".py",
      "mimetype": "text/x-python",
      "name": "python",
      "nbconvert_exporter": "python",
      "pygments_lexer": "ipython3",
      "version": "3.6.3"
    },
    "colab": {
      "provenance": [],
      "collapsed_sections": [],
      "include_colab_link": true
    }
  },
  "nbformat": 4,
  "nbformat_minor": 0
}