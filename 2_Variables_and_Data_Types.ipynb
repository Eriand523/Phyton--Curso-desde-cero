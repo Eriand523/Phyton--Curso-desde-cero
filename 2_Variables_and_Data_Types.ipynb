{
  "cells": [
    {
      "cell_type": "markdown",
      "metadata": {
        "id": "view-in-github",
        "colab_type": "text"
      },
      "source": [
        "<a href=\"https://colab.research.google.com/github/Eriand523/Phyton--Curso-desde-cero/blob/main/2_Variables_and_Data_Types.ipynb\" target=\"_parent\"><img src=\"https://colab.research.google.com/assets/colab-badge.svg\" alt=\"Open In Colab\"/></a>"
      ]
    },
    {
      "cell_type": "markdown",
      "source": [
        "# Python Desde Cero 🐍\n",
        "\n",
        "Pyladies Panamá 🌻\n",
        "\n",
        "2022\n",
        "\n",
        "\n",
        "---\n",
        "\n",
        "Day 1 - PythonDesdeCero Challenge\n",
        "\n",
        "---"
      ],
      "metadata": {
        "id": "csZ9lcVgpB3i"
      }
    },
    {
      "cell_type": "markdown",
      "metadata": {
        "id": "mhsjWdFRrN52"
      },
      "source": [
        "# Asignación de Variables \n",
        "\n",
        "\n",
        "---\n",
        "|Operador\t|Ejemplo|\tEquivalente|\n",
        "|---|---|---|\n",
        "|=\t|x=7\t| x=7 |\n",
        "|+=\t|x+=2\t| x=x+2 = 9 |\n",
        "|-=\t|x-=2\t| x=x-2 = 5 |\n",
        "|*= |\tx*=2| x=x*2 = 14 |\n",
        "\n",
        "\n"
      ]
    },
    {
      "cell_type": "code",
      "execution_count": null,
      "metadata": {
        "collapsed": true,
        "id": "p7sPFMgarN56"
      },
      "outputs": [],
      "source": [
        "a = 5"
      ]
    },
    {
      "cell_type": "code",
      "execution_count": null,
      "metadata": {
        "colab": {
          "base_uri": "https://localhost:8080/"
        },
        "id": "Xys3i32srN57",
        "outputId": "faba042e-c6ea-4502-872b-ef0874cf1f6d"
      },
      "outputs": [
        {
          "output_type": "stream",
          "name": "stdout",
          "text": [
            "5\n"
          ]
        }
      ],
      "source": [
        "print(a)"
      ]
    },
    {
      "cell_type": "code",
      "execution_count": null,
      "metadata": {
        "collapsed": true,
        "id": "NMyCseX3rN58"
      },
      "outputs": [],
      "source": [
        "A = 4"
      ]
    },
    {
      "cell_type": "code",
      "execution_count": null,
      "metadata": {
        "colab": {
          "base_uri": "https://localhost:8080/"
        },
        "id": "Hpmpy4FDrN58",
        "outputId": "eae8af88-0b99-40a4-d6f1-0ebf1caa2a06"
      },
      "outputs": [
        {
          "output_type": "stream",
          "name": "stdout",
          "text": [
            "5\n",
            "4\n"
          ]
        }
      ],
      "source": [
        "print(a)\n",
        "print(A)"
      ]
    },
    {
      "cell_type": "code",
      "source": [
        "a=7; b=2\n",
        "print(\"Operadores de asignación\")\n",
        "x=a; x+=b;  print(\"x+=\", x)  # 9\n",
        "x=a; x-=b;  print(\"x-=\", x)  # 5\n",
        "x=a; x*=b;  print(\"x*=\", x)  # 14"
      ],
      "metadata": {
        "colab": {
          "base_uri": "https://localhost:8080/"
        },
        "id": "7ZrPnYi9rV4K",
        "outputId": "47bccc1b-beab-4ead-c9cf-bda952395ff0"
      },
      "execution_count": null,
      "outputs": [
        {
          "output_type": "stream",
          "name": "stdout",
          "text": [
            "Operadores de asignación\n",
            "x+= 9\n",
            "x-= 5\n",
            "x*= 14\n"
          ]
        }
      ]
    },
    {
      "cell_type": "markdown",
      "metadata": {
        "id": "X32jUXEtrN59"
      },
      "source": [
        "# ¿Cómo trabajan las variables in Python?\n"
      ]
    },
    {
      "cell_type": "code",
      "execution_count": null,
      "metadata": {
        "collapsed": true,
        "id": "zVzoOXZtrN59"
      },
      "outputs": [],
      "source": [
        "a = 7\n",
        "b = a\n",
        "a = 3"
      ]
    },
    {
      "cell_type": "code",
      "execution_count": null,
      "metadata": {
        "colab": {
          "base_uri": "https://localhost:8080/"
        },
        "id": "0qDGJLwprN59",
        "outputId": "d3287e30-13b2-4ba8-bd1f-565a0f3de665"
      },
      "outputs": [
        {
          "output_type": "stream",
          "name": "stdout",
          "text": [
            "3\n"
          ]
        }
      ],
      "source": [
        "print(a)"
      ]
    },
    {
      "cell_type": "code",
      "execution_count": null,
      "metadata": {
        "colab": {
          "base_uri": "https://localhost:8080/"
        },
        "id": "GODKNtT3rN5-",
        "outputId": "d4b562a9-63a1-45ca-fc7b-9fdba39077b2"
      },
      "outputs": [
        {
          "output_type": "stream",
          "name": "stdout",
          "text": [
            "7\n"
          ]
        }
      ],
      "source": [
        "print(b)"
      ]
    },
    {
      "cell_type": "markdown",
      "metadata": {
        "id": "mHQLV_hKrN5-"
      },
      "source": [
        "# Reglas de nombres de Variables "
      ]
    },
    {
      "cell_type": "code",
      "execution_count": null,
      "metadata": {
        "collapsed": true,
        "id": "8f1XGJ1zrN5_"
      },
      "outputs": [],
      "source": [
        "a = 5"
      ]
    },
    {
      "cell_type": "code",
      "execution_count": null,
      "metadata": {
        "collapsed": true,
        "id": "RLypZY2RrN5_"
      },
      "outputs": [],
      "source": [
        "_a=5"
      ]
    },
    {
      "cell_type": "code",
      "execution_count": null,
      "metadata": {
        "id": "wnO6Tb16rN6A",
        "colab": {
          "base_uri": "https://localhost:8080/",
          "height": 131
        },
        "outputId": "be13db9d-9a69-4031-909b-97b3139d30c9"
      },
      "outputs": [
        {
          "output_type": "error",
          "ename": "SyntaxError",
          "evalue": "ignored",
          "traceback": [
            "\u001b[0;36m  File \u001b[0;32m\"<ipython-input-12-621d036c2088>\"\u001b[0;36m, line \u001b[0;32m1\u001b[0m\n\u001b[0;31m    @a=5\u001b[0m\n\u001b[0m      ^\u001b[0m\n\u001b[0;31mSyntaxError\u001b[0m\u001b[0;31m:\u001b[0m invalid syntax\n"
          ]
        }
      ],
      "source": [
        "@a=5"
      ]
    },
    {
      "cell_type": "code",
      "execution_count": null,
      "metadata": {
        "id": "HeMWMIhNrN6A",
        "colab": {
          "base_uri": "https://localhost:8080/",
          "height": 131
        },
        "outputId": "fa77068f-90b6-40e0-e9bc-004e60684d9a"
      },
      "outputs": [
        {
          "output_type": "error",
          "ename": "SyntaxError",
          "evalue": "ignored",
          "traceback": [
            "\u001b[0;36m  File \u001b[0;32m\"<ipython-input-13-12a452f40b4c>\"\u001b[0;36m, line \u001b[0;32m1\u001b[0m\n\u001b[0;31m    1a=5\u001b[0m\n\u001b[0m     ^\u001b[0m\n\u001b[0;31mSyntaxError\u001b[0m\u001b[0;31m:\u001b[0m invalid syntax\n"
          ]
        }
      ],
      "source": [
        "1a=5"
      ]
    },
    {
      "cell_type": "markdown",
      "metadata": {
        "id": "UdOjkiBJrN6A"
      },
      "source": [
        "# Tipo de Datos"
      ]
    },
    {
      "cell_type": "code",
      "execution_count": null,
      "metadata": {
        "collapsed": true,
        "id": "RYHxw63MrN6B"
      },
      "outputs": [],
      "source": [
        "a = 5"
      ]
    },
    {
      "cell_type": "code",
      "execution_count": null,
      "metadata": {
        "id": "Eh7ndMYLrN6B",
        "colab": {
          "base_uri": "https://localhost:8080/"
        },
        "outputId": "663297b7-206a-44f2-d07a-2ca5a2686965"
      },
      "outputs": [
        {
          "output_type": "execute_result",
          "data": {
            "text/plain": [
              "int"
            ]
          },
          "metadata": {},
          "execution_count": 15
        }
      ],
      "source": [
        "type(a)"
      ]
    },
    {
      "cell_type": "code",
      "execution_count": null,
      "metadata": {
        "collapsed": true,
        "id": "9wkSDVfcrN6B"
      },
      "outputs": [],
      "source": [
        "b = \"Hola\""
      ]
    },
    {
      "cell_type": "code",
      "execution_count": null,
      "metadata": {
        "id": "c155FPo1rN6B",
        "colab": {
          "base_uri": "https://localhost:8080/"
        },
        "outputId": "6c58914a-2e11-4f21-a435-9cc5267bb37c"
      },
      "outputs": [
        {
          "output_type": "execute_result",
          "data": {
            "text/plain": [
              "str"
            ]
          },
          "metadata": {},
          "execution_count": 17
        }
      ],
      "source": [
        "type(b)"
      ]
    },
    {
      "cell_type": "code",
      "execution_count": null,
      "metadata": {
        "collapsed": true,
        "id": "AdM7fHC6rN6C",
        "colab": {
          "base_uri": "https://localhost:8080/"
        },
        "outputId": "466fa9fe-6ec0-4163-8c3c-b132ac758609"
      },
      "outputs": [
        {
          "output_type": "stream",
          "name": "stdout",
          "text": [
            "<class 'int'>\n",
            "<class 'float'>\n",
            "<class 'complex'>\n",
            "<class 'str'>\n",
            "<class 'list'>\n",
            "<class 'dict'>\n",
            "<class 'set'>\n",
            "<class 'tuple'>\n"
          ]
        }
      ],
      "source": [
        "# Checking data types\n",
        "\n",
        "print(type(10))                  # Int\n",
        "print(type(3.14))                # Float\n",
        "print(type(1 + 3j))              # Complex\n",
        "print(type('Asabeneh'))          # String\n",
        "print(type([1, 2, 3]))           # List\n",
        "print(type({'name':'Asabeneh'})) # Dictionary\n",
        "print(type({9.8, 3.14, 2.7}))    # Set\n",
        "print(type((9.8, 3.14, 2.7)))    # Tuple"
      ]
    }
  ],
  "metadata": {
    "kernelspec": {
      "display_name": "Python 3",
      "language": "python",
      "name": "python3"
    },
    "language_info": {
      "codemirror_mode": {
        "name": "ipython",
        "version": 3
      },
      "file_extension": ".py",
      "mimetype": "text/x-python",
      "name": "python",
      "nbconvert_exporter": "python",
      "pygments_lexer": "ipython3",
      "version": "3.6.3"
    },
    "colab": {
      "provenance": [],
      "include_colab_link": true
    }
  },
  "nbformat": 4,
  "nbformat_minor": 0
}