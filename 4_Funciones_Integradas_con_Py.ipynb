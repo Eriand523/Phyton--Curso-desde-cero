{
  "nbformat": 4,
  "nbformat_minor": 0,
  "metadata": {
    "colab": {
      "provenance": [],
      "collapsed_sections": [],
      "include_colab_link": true
    },
    "kernelspec": {
      "name": "python3",
      "display_name": "Python 3"
    },
    "language_info": {
      "name": "python"
    }
  },
  "cells": [
    {
      "cell_type": "markdown",
      "metadata": {
        "id": "view-in-github",
        "colab_type": "text"
      },
      "source": [
        "<a href=\"https://colab.research.google.com/github/Eriand523/Phyton--Curso-desde-cero/blob/main/4_Funciones_Integradas_con_Py.ipynb\" target=\"_parent\"><img src=\"https://colab.research.google.com/assets/colab-badge.svg\" alt=\"Open In Colab\"/></a>"
      ]
    },
    {
      "cell_type": "markdown",
      "source": [
        "# Python Desde Cero 🐍\n",
        "\n",
        "Pyladies Panamá 🌻\n",
        "\n",
        "2022\n",
        "\n",
        "\n",
        "---\n",
        "\n",
        "Day 2 - PythonDesdeCero Challenge\n",
        "\n",
        "---\n",
        "\n",
        "\n",
        "Refecencia\n",
        "Link de video: https://www.youtube.com/watch?v=hHhkLEnowLA&list=PLDXvhsYB9YPydrapCVAkLI4TgrO2d7Eti&index=3 \n",
        "\n",
        "\n",
        "--- "
      ],
      "metadata": {
        "id": "p2NYHAfev06M"
      }
    },
    {
      "cell_type": "markdown",
      "metadata": {
        "id": "ouM8YLAGxUeZ"
      },
      "source": [
        "FUNCIONES INTEGRADAS CON PYTHON\n",
        "\n",
        "---\n",
        "\n"
      ]
    },
    {
      "cell_type": "code",
      "metadata": {
        "id": "SK0DQ6C6MNtY",
        "colab": {
          "base_uri": "https://localhost:8080/"
        },
        "outputId": "51418183-94a1-4a32-9d56-78c662c792a5"
      },
      "source": [
        "# Función print()\n",
        "\n",
        "print(\"¿Sigue\", [0, 1, 1, 2, 3, 5], \"la sucesión de Fibonacci?\")\n",
        "print(\"No lo sé\", \"No me importa\")\n",
        "\n",
        "print(\"F\", \"i\", \"b\", \"o\", \"n\", \"a\", \"c\", \"c\", \"i\")\n",
        "print(0, 1, 1, 2, 3, 5)"
      ],
      "execution_count": null,
      "outputs": [
        {
          "output_type": "stream",
          "name": "stdout",
          "text": [
            "¿Sigue [0, 1, 1, 2, 3, 5] la sucesión de Fibonacci?\n",
            "No lo sé No me importa\n",
            "F i b o n a c c i\n",
            "0 1 1 2 3 5\n"
          ]
        }
      ]
    },
    {
      "cell_type": "code",
      "source": [
        "# Función print() - Continuación\n",
        "\n",
        "print(\"¿Sigue\", [0, 1, 1, 2, 3, 5], \"la sucesión de Fibonacci?\", end=\" R: \")\n",
        "print(\"No lo sé\", \"No me importa\", sep=\" y \")\n",
        "\n",
        "print(\"F\", \"i\", \"b\", \"o\", \"n\", \"a\", \"c\", \"c\", \"i\", sep=\"\", end=\": \")\n",
        "print(0, 1, 1, 2, 3, 5, sep=\", \", end=\", ...\")"
      ],
      "metadata": {
        "id": "d5zjXoKhxJvx"
      },
      "execution_count": null,
      "outputs": []
    },
    {
      "cell_type": "code",
      "metadata": {
        "id": "yvdEKdbhvsnM"
      },
      "source": [
        "# Función input()\n",
        "\n",
        "variable = input(\"Escriba su nombre: \")\n",
        "print(variable + \", eres una persona de dudosa inteligencia.\")"
      ],
      "execution_count": null,
      "outputs": []
    },
    {
      "cell_type": "code",
      "metadata": {
        "id": "zlMgP71Tb9qs"
      },
      "source": [
        "# Función: type()\n",
        "\n",
        "print(type(\"Palabra\"))\n",
        "print(type(3))\n",
        "print(type(2.3))\n",
        "print(type(True))\n",
        "print(type([]))\n",
        "print(type(()))\n",
        "print(type({0}))\n",
        "print(type({}))"
      ],
      "execution_count": null,
      "outputs": []
    },
    {
      "cell_type": "code",
      "metadata": {
        "id": "9o6Rl-LYcoWf"
      },
      "source": [
        "# Funciones de conversión de datos string a numéricos: str int float bool\n",
        "\n",
        "var_string = \"30\"\n",
        "\n",
        "#imprime el tipo de dato\n",
        "print(var_string, type(var_string))\n",
        "\n",
        "#Conversión de un string a número: int\n",
        "#Uso de función: int()\n",
        "var_num = int(var_string)\n",
        "print(var_num, type(var_num))\n",
        "\n",
        "#Conversión de un string a número: float \n",
        "#Uso de función: float() \n",
        "var_float = float(var_string)\n",
        "print(var_float, type(var_float))"
      ],
      "execution_count": null,
      "outputs": []
    },
    {
      "cell_type": "code",
      "metadata": {
        "id": "VomCKGgxgi3E",
        "colab": {
          "base_uri": "https://localhost:8080/"
        },
        "outputId": "53fce894-8c0e-4e2c-9e5e-7e490b791414"
      },
      "source": [
        "# Conversión de tipo de datos:  list tuple set dict\n",
        "\n",
        "#Uso de función: list()\n",
        "var_lista = list((1, 2, 3))\n",
        "\n",
        "#Uso de función: tuple()\n",
        "var_tupla = tuple((1, 2, 3))\n",
        "\n",
        "#Uso de función: set()\n",
        "var_conjunto = set((1, 2, 3))\n",
        "\n",
        "#Uso de función: dict()\n",
        "var_diccionario = dict(((\"Uno\", 1), (\"Dos\", 2), (\"Tres\", 3)))\n",
        "\n",
        "\n",
        "print(var_lista, type(var_lista))\n",
        "print(var_tupla, type(var_tupla))\n",
        "print(var_conjunto, type(var_conjunto))\n",
        "print(var_diccionario, type(var_diccionario))\n",
        "\n",
        "print(list(\"Deletrea\"))\n",
        "print(dict(Uno=1, Dos=2, Tres=3))"
      ],
      "execution_count": null,
      "outputs": [
        {
          "output_type": "stream",
          "name": "stdout",
          "text": [
            "[1, 2, 3] <class 'list'>\n",
            "(1, 2, 3) <class 'tuple'>\n",
            "{1, 2, 3} <class 'set'>\n",
            "{'Uno': 1, 'Dos': 2, 'Tres': 3} <class 'dict'>\n",
            "['D', 'e', 'l', 'e', 't', 'r', 'e', 'a']\n",
            "{'Uno': 1, 'Dos': 2, 'Tres': 3}\n"
          ]
        }
      ]
    },
    {
      "cell_type": "code",
      "metadata": {
        "id": "hmW_vdMNjAV_"
      },
      "source": [
        "# Uso de funciones numéricas: abs, pow round\n",
        "\n",
        "print(\"El valor absoluto de -5:\", abs(-5))\n",
        "print(\"Potencia 2^3:\", pow(2, 3))\n",
        "\n",
        "print(\"Redondeo de 5.25:\", round(5.25))\n",
        "print(\"Redondeo de 5.25:\", round(5.25))\n",
        "\n",
        "print(\"Redondeo de 5.25 con 0 cifras decimales:\", round(5.25, 0))\n",
        "print(\"Redondeo de 5.25 con 1 cifra decimal:\", round(5.25, 1))\n",
        "print(\"Redondeo de 5.25 con 2 cifras decimales:\", round(5.25, 2))\n"
      ],
      "execution_count": null,
      "outputs": []
    },
    {
      "cell_type": "code",
      "metadata": {
        "id": "D-kfRz_H4q5A"
      },
      "source": [
        "# Uso de funciones numéricas:  sum max min\n",
        "print(\"Suma lista:\", sum(list((1, 2, 3))))\n",
        "print(\"Suma tupla:\", sum(tuple((1, 2, 3))))\n",
        "print(\"Suma conjunto:\", sum(set((1, 2, 3))))\n",
        "print(\"Suma diccionario:\", sum(dict(((1, \"Uno\"), (2, \"Dos\"), (3, \"Tres\")))))\n",
        "\n",
        "print(\"Máximo:\", max(list((1, 2, 3))))\n",
        "print(\"Mínimo:\", min(set((1, 2, 3))))"
      ],
      "execution_count": null,
      "outputs": []
    },
    {
      "cell_type": "code",
      "metadata": {
        "id": "2zZuU4XGkBhy",
        "colab": {
          "base_uri": "https://localhost:8080/"
        },
        "outputId": "dfd00300-698f-4d9a-fa61-d7048e35cf62"
      },
      "source": [
        "# Funciones: len sorted\n",
        "\n",
        "lista = [5, 1, 4, 3, 2]\n",
        "diccionario = {\"Clave_1\": \"Valor_1\", \"Clave_2\": \"Valor_2\"}\n",
        "\n",
        "print(\"El tamaño de la lista es:\", len(lista))\n",
        "print(\"El tamaño del diccionario es:\", len(diccionario))\n",
        "\n",
        "print(\"Lista ordenada\", sorted(lista))\n",
        "print(\"Lista ordenada inversa:\", sorted(lista, reverse=True))"
      ],
      "execution_count": null,
      "outputs": [
        {
          "output_type": "stream",
          "name": "stdout",
          "text": [
            "El tamaño de la lista es: 5\n",
            "El tamaño del diccionario es: 2\n",
            "Lista ordenada [1, 2, 3, 4, 5]\n",
            "Lista ordenada inversa: [5, 4, 3, 2, 1]\n"
          ]
        }
      ]
    },
    {
      "cell_type": "code",
      "metadata": {
        "id": "uUns6I3YlLlc",
        "colab": {
          "base_uri": "https://localhost:8080/"
        },
        "outputId": "bf95f947-43e2-4038-e186-37d6e97caf7a"
      },
      "source": [
        "# Funciones: range\n",
        "print(list(range(10)))\n",
        "print(list(range(2, 10)))\n",
        "print(list(range(1, 16, 3)))\n",
        "\n"
      ],
      "execution_count": null,
      "outputs": [
        {
          "output_type": "stream",
          "name": "stdout",
          "text": [
            "[0, 1, 2, 3, 4, 5, 6, 7, 8, 9]\n",
            "[2, 3, 4, 5, 6, 7, 8, 9]\n",
            "[1, 4, 7, 10, 13]\n"
          ]
        }
      ]
    },
    {
      "cell_type": "code",
      "source": [
        "# Funciones: enumerate zip\n",
        "\n",
        "print(list(enumerate([\"A\", \"B\", \"C\"])))\n",
        "print(list(enumerate([\"A\", \"B\", \"C\"], start=2)))\n",
        "\n",
        "\n",
        "print(list(zip([1, 2, 3, 4], [\"A\", \"B\", \"C\", \"D\"])))"
      ],
      "metadata": {
        "id": "YabCMbi6wWyB",
        "colab": {
          "base_uri": "https://localhost:8080/"
        },
        "outputId": "1e52976c-2225-4840-de66-a68b93b959f2"
      },
      "execution_count": null,
      "outputs": [
        {
          "output_type": "stream",
          "name": "stdout",
          "text": [
            "[(0, 'A'), (1, 'B'), (2, 'C')]\n",
            "[(2, 'A'), (3, 'B'), (4, 'C')]\n",
            "[(1, 'A'), (2, 'B'), (3, 'C'), (4, 'D')]\n"
          ]
        }
      ]
    },
    {
      "cell_type": "code",
      "source": [],
      "metadata": {
        "id": "fRguQP8Lx4kw"
      },
      "execution_count": null,
      "outputs": []
    }
  ]
}