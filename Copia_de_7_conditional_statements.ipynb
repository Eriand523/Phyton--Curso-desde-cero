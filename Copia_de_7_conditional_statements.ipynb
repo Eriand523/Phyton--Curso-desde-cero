{
  "cells": [
    {
      "cell_type": "markdown",
      "metadata": {
        "id": "view-in-github",
        "colab_type": "text"
      },
      "source": [
        "<a href=\"https://colab.research.google.com/github/Eriand523/Phyton--Curso-desde-cero/blob/main/Copia_de_7_conditional_statements.ipynb\" target=\"_parent\"><img src=\"https://colab.research.google.com/assets/colab-badge.svg\" alt=\"Open In Colab\"/></a>"
      ]
    },
    {
      "cell_type": "markdown",
      "source": [
        "# Python Desde Cero 🐍\n",
        "\n",
        "Pyladies Panamá 🌻\n",
        "\n",
        "2022\n",
        "\n",
        "\n",
        "---\n",
        "\n",
        "Day 1 - PythonDesdeCero Challenge\n",
        "\n",
        "---"
      ],
      "metadata": {
        "id": "T3xmFDELs2iZ"
      }
    },
    {
      "cell_type": "markdown",
      "source": [
        "# Sentencias Condicionales\n",
        "\n",
        "|Condicional | Descripción |\n",
        "| --- | --- |\n",
        "| Uso del if |  |\n",
        "| Uso del else y elif |  |\n",
        "\n"
      ],
      "metadata": {
        "id": "f4Wubu9Atkym"
      }
    },
    {
      "cell_type": "code",
      "source": [
        "#Uso del if\n",
        "a = 4\n",
        "b = 2\n",
        "if b != 0:\n",
        "    print(a/b)"
      ],
      "metadata": {
        "id": "hH6tBQxFtmJu",
        "colab": {
          "base_uri": "https://localhost:8080/"
        },
        "outputId": "baa803f5-21f5-4607-c6a7-ab7430554db4"
      },
      "execution_count": null,
      "outputs": [
        {
          "output_type": "stream",
          "name": "stdout",
          "text": [
            "2.0\n"
          ]
        }
      ]
    },
    {
      "cell_type": "code",
      "source": [
        "#Identado\n",
        "b=0\n",
        "dd=1000\n",
        "if b != 0:\n",
        "  cc = a/b\n",
        "  dd = cc + 1\n",
        "  print(dd)\n",
        "print(dd)"
      ],
      "metadata": {
        "id": "atqRXe-St5Vi",
        "colab": {
          "base_uri": "https://localhost:8080/"
        },
        "outputId": "113e837a-bb01-420d-a642-c49a5e20b3ad"
      },
      "execution_count": null,
      "outputs": [
        {
          "output_type": "stream",
          "name": "stdout",
          "text": [
            "1000\n"
          ]
        }
      ]
    },
    {
      "cell_type": "code",
      "source": [
        "import this"
      ],
      "metadata": {
        "colab": {
          "base_uri": "https://localhost:8080/"
        },
        "id": "_PVhn7Jx84yU",
        "outputId": "c25e4787-81c0-44d3-b8de-6eacbf6c4ffc"
      },
      "execution_count": null,
      "outputs": [
        {
          "output_type": "stream",
          "name": "stdout",
          "text": [
            "The Zen of Python, by Tim Peters\n",
            "\n",
            "Beautiful is better than ugly.\n",
            "Explicit is better than implicit.\n",
            "Simple is better than complex.\n",
            "Complex is better than complicated.\n",
            "Flat is better than nested.\n",
            "Sparse is better than dense.\n",
            "Readability counts.\n",
            "Special cases aren't special enough to break the rules.\n",
            "Although practicality beats purity.\n",
            "Errors should never pass silently.\n",
            "Unless explicitly silenced.\n",
            "In the face of ambiguity, refuse the temptation to guess.\n",
            "There should be one-- and preferably only one --obvious way to do it.\n",
            "Although that way may not be obvious at first unless you're Dutch.\n",
            "Now is better than never.\n",
            "Although never is often better than *right* now.\n",
            "If the implementation is hard to explain, it's a bad idea.\n",
            "If the implementation is easy to explain, it may be a good idea.\n",
            "Namespaces are one honking great idea -- let's do more of those!\n"
          ]
        }
      ]
    },
    {
      "cell_type": "code",
      "source": [
        "#Validación del identado\n",
        "if b != 0:\n",
        "    c = a/b\n",
        "    print(\"Dentro if\")\n",
        "print(\"Fuera if\")"
      ],
      "metadata": {
        "id": "xTQCgrHnuC7u",
        "colab": {
          "base_uri": "https://localhost:8080/"
        },
        "outputId": "5d0b2433-a3fd-455c-cb5c-bfca6f74e3ca"
      },
      "execution_count": null,
      "outputs": [
        {
          "output_type": "stream",
          "name": "stdout",
          "text": [
            "Fuera if\n"
          ]
        }
      ]
    },
    {
      "cell_type": "code",
      "source": [
        "a = 10\n",
        "if a > 5 and a < 15:\n",
        "    print(\"Mayor que 5 y menos que 15\")"
      ],
      "metadata": {
        "id": "-lR-sehfuOiu",
        "colab": {
          "base_uri": "https://localhost:8080/"
        },
        "outputId": "75c419dd-1a3d-4c0f-a265-0ad5236a0b32"
      },
      "execution_count": null,
      "outputs": [
        {
          "output_type": "stream",
          "name": "stdout",
          "text": [
            "Mayor que 5 y menos que 15\n"
          ]
        }
      ]
    },
    {
      "cell_type": "markdown",
      "metadata": {
        "id": "Gjr2QCDPrbza"
      },
      "source": [
        "# Problema 1 : Imprimir \"Par\" si el número es divisible por 2, o imprimir \"Impar\" si no lo es"
      ]
    },
    {
      "cell_type": "code",
      "execution_count": null,
      "metadata": {
        "id": "Xyg2S-K8rbzc",
        "colab": {
          "base_uri": "https://localhost:8080/"
        },
        "outputId": "2a91c331-7584-421b-a1aa-f6798de1eeaf"
      },
      "outputs": [
        {
          "output_type": "stream",
          "name": "stdout",
          "text": [
            "Par\n"
          ]
        }
      ],
      "source": [
        "x = 4\n",
        "\n",
        "if(x % 2 == 0):\n",
        "    print(\"Par\")\n",
        "else:\n",
        "    print(\"Impart\")"
      ]
    },
    {
      "cell_type": "markdown",
      "source": [
        "# Uso de else "
      ],
      "metadata": {
        "id": "eRjn986PuYYY"
      }
    },
    {
      "cell_type": "code",
      "source": [
        "# if / else\n",
        "x = 5\n",
        "if x == 5:\n",
        "    print(\"Es 5\")\n",
        "else:\n",
        "    print(\"No es 5\")"
      ],
      "metadata": {
        "id": "0Ah5rktiuX6S",
        "colab": {
          "base_uri": "https://localhost:8080/"
        },
        "outputId": "fb8d4052-18e1-45be-f190-972a863b1b12"
      },
      "execution_count": null,
      "outputs": [
        {
          "output_type": "stream",
          "name": "stdout",
          "text": [
            "Es 5\n"
          ]
        }
      ]
    },
    {
      "cell_type": "code",
      "source": [
        "# Uso de elif\n",
        "x = 7\n",
        "if x == 5:\n",
        "    print(\"Es 5\")\n",
        "elif x == 6:\n",
        "    print(\"Es 6\")\n",
        "elif x == 7:\n",
        "    print(\"Es 7\")"
      ],
      "metadata": {
        "id": "ORJ1RiBQvKZK",
        "colab": {
          "base_uri": "https://localhost:8080/"
        },
        "outputId": "c97ab248-e5f3-4cda-ecbf-d22034cdb399"
      },
      "execution_count": null,
      "outputs": [
        {
          "output_type": "stream",
          "name": "stdout",
          "text": [
            "Es 7\n"
          ]
        }
      ]
    },
    {
      "cell_type": "markdown",
      "metadata": {
        "id": "w9O1eBmOrbzd"
      },
      "source": [
        "# Problema 2: Tome una variable y e imprima \"Grado A\" si y es mayor que 90, \"Grado B\" si y es mayor que 60 pero menor o igual a 90 y \"Grado F\" en caso contrario."
      ]
    },
    {
      "cell_type": "code",
      "execution_count": null,
      "metadata": {
        "id": "cWNBFoI2rbzd",
        "colab": {
          "base_uri": "https://localhost:8080/"
        },
        "outputId": "d6baad3c-eaa5-4c28-c546-9778aec32de6"
      },
      "outputs": [
        {
          "output_type": "stream",
          "name": "stdout",
          "text": [
            "Grade B\n"
          ]
        }
      ],
      "source": [
        "y=90\n",
        "\n",
        "if(y>90):\n",
        "    print(\"Grade A\")\n",
        "elif(y>60):\n",
        "    print(\"Grade B\")\n",
        "else:\n",
        "    print(\"Grade F\")"
      ]
    },
    {
      "cell_type": "code",
      "execution_count": null,
      "metadata": {
        "collapsed": true,
        "id": "BIJI3l3Mrbze"
      },
      "outputs": [],
      "source": []
    }
  ],
  "metadata": {
    "kernelspec": {
      "display_name": "Python [default]",
      "language": "python",
      "name": "python3"
    },
    "language_info": {
      "codemirror_mode": {
        "name": "ipython",
        "version": 3
      },
      "file_extension": ".py",
      "mimetype": "text/x-python",
      "name": "python",
      "nbconvert_exporter": "python",
      "pygments_lexer": "ipython3",
      "version": "3.5.4"
    },
    "colab": {
      "provenance": [],
      "include_colab_link": true
    }
  },
  "nbformat": 4,
  "nbformat_minor": 0
}